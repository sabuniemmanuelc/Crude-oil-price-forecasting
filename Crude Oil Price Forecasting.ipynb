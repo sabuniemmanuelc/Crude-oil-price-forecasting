{
  "nbformat": 4,
  "nbformat_minor": 0,
  "metadata": {
    "colab": {
      "provenance": [],
      "collapsed_sections": [
        "p_WLJyrrVvLv"
      ]
    },
    "language_info": {
      "codemirror_mode": {
        "name": "ipython",
        "version": 3
      },
      "file_extension": ".py",
      "mimetype": "text/x-python",
      "name": "python",
      "nbconvert_exporter": "python",
      "pygments_lexer": "ipython3",
      "version": "3.6.0"
    },
    "kernelspec": {
      "display_name": "Python 3",
      "language": "python",
      "name": "python3"
    }
  },
  "cells": [
    {
      "cell_type": "markdown",
      "metadata": {
        "id": "gqSsIhnDVu5b"
      },
      "source": [
        "# Implementation\n",
        "============================\n",
        "#### (Using Probabilistic Graphical Models to forecast the price of crude oil)\n",
        "\n",
        "The document contains the **implementation** of the oil trading system using graphical models.\n",
        "\n",
        "* [The **first** part](#first) is dedicated to retrieving data from the **EIA** and **FRED**, **preprocessing** the data,and creating the **training**, **validation**, and **test** datasets.\n",
        "* [The **second** part](#second) is dedicated to implementing a **regime detection model** using **Hidden Markov Models** to identify bull, bear, and stagnant regimes.\n",
        "\n",
        "\n",
        "I would be using a number of Python packages, such as [pgmpy](http://pgmpy.org/) and [hmms](https://github.com/lopatovsky/HMMs) throughout the notebook and it is highly recommended that I take a deeper look at them as only a specific and relevant functionality of those packages have been used in our model."
      ]
    },
    {
      "cell_type": "markdown",
      "metadata": {
        "collapsed": true,
        "id": "OoHR70UiVu5p"
      },
      "source": [
        "## Data preprocessing"
      ]
    },
    {
      "cell_type": "markdown",
      "metadata": {
        "id": "_5_SZGoIVu5y"
      },
      "source": [
        "Data preprocessing plays an important role in Machine Learning. Our data preprocessing has four main steps;  data retrieval, data cleaning, data transformation, and data discretisation.\n",
        "\n",
        "### Data retrieval\n",
        "\n",
        "The first step of constructing our model is to retrieve the data from the open-data facilities. I have selected the **EIA** and **FRED** as our primary data sources. Unfortunately, both these open-data facilities do not provide Python packages to neatly retrieve data in Python, so I will have to resort to using third-party APIs. For the EIA, I are using [EIA-python](https://github.com/mra1385/EIA-python/), and for the FRED I are using [fredapi](https://github.com/mortada/fredapi).\n",
        "\n",
        "Before beginning, I would be first be importing pandas and numpy, as they are highly required in the entire data preprocessing section."
      ]
    },
    {
      "cell_type": "code",
      "metadata": {
        "id": "lI7x1Z7IVu56"
      },
      "source": [
        "import pandas as pd\n",
        "import numpy as np"
      ],
      "execution_count": null,
      "outputs": []
    },
    {
      "cell_type": "markdown",
      "metadata": {
        "id": "XPULCs1mVu6j"
      },
      "source": [
        "I would now be retrieving data, beginning with the EIA. Before retrieving data from the EIA, I have to register with EIA's [open-data facility](https://www.eia.gov/opendata/), in return of which I shall recieve an API key, which is used as a passphrase to access data from the EIA's datacenter."
      ]
    },
    {
      "cell_type": "code",
      "source": [
        "!pip install myeia"
      ],
      "metadata": {
        "colab": {
          "base_uri": "https://localhost:8080/"
        },
        "id": "YJ588OnDJIYO",
        "outputId": "e0b91921-b606-4d38-f246-16bfdccf2062"
      },
      "execution_count": null,
      "outputs": [
        {
          "output_type": "stream",
          "name": "stdout",
          "text": [
            "Collecting myeia\n",
            "  Downloading myeia-0.3.5-py2.py3-none-any.whl (6.1 kB)\n",
            "Requirement already satisfied: pandas in /usr/local/lib/python3.10/dist-packages (from myeia) (1.5.3)\n",
            "Requirement already satisfied: requests in /usr/local/lib/python3.10/dist-packages (from myeia) (2.31.0)\n",
            "Collecting python-dotenv (from myeia)\n",
            "  Downloading python_dotenv-1.0.1-py3-none-any.whl (19 kB)\n",
            "Requirement already satisfied: python-dateutil>=2.8.1 in /usr/local/lib/python3.10/dist-packages (from pandas->myeia) (2.8.2)\n",
            "Requirement already satisfied: pytz>=2020.1 in /usr/local/lib/python3.10/dist-packages (from pandas->myeia) (2023.4)\n",
            "Requirement already satisfied: numpy>=1.21.0 in /usr/local/lib/python3.10/dist-packages (from pandas->myeia) (1.25.2)\n",
            "Requirement already satisfied: charset-normalizer<4,>=2 in /usr/local/lib/python3.10/dist-packages (from requests->myeia) (3.3.2)\n",
            "Requirement already satisfied: idna<4,>=2.5 in /usr/local/lib/python3.10/dist-packages (from requests->myeia) (3.6)\n",
            "Requirement already satisfied: urllib3<3,>=1.21.1 in /usr/local/lib/python3.10/dist-packages (from requests->myeia) (2.0.7)\n",
            "Requirement already satisfied: certifi>=2017.4.17 in /usr/local/lib/python3.10/dist-packages (from requests->myeia) (2024.2.2)\n",
            "Requirement already satisfied: six>=1.5 in /usr/local/lib/python3.10/dist-packages (from python-dateutil>=2.8.1->pandas->myeia) (1.16.0)\n",
            "Installing collected packages: python-dotenv, myeia\n",
            "Successfully installed myeia-0.3.5 python-dotenv-1.0.1\n"
          ]
        }
      ]
    },
    {
      "cell_type": "code",
      "metadata": {
        "id": "Qn-GTgkeVu6r"
      },
      "source": [
        "# Importing the library\n",
        "from myeia.api import API\n",
        "# the API key recieved from EIA\n",
        "eia_key = \"265d1f2178aaab3ceec3d364d9cc1d11\";\n",
        "# Initiates a session with the EIA datacenter to recieve datasets\n",
        "eia = API(eia_key)"
      ],
      "execution_count": null,
      "outputs": []
    },
    {
      "cell_type": "markdown",
      "metadata": {
        "id": "C1lBHElQVu7G"
      },
      "source": [
        "Now, I shall be making a request to retrieve data from the EIA as a pandas dataframe. EIA provides a 3,872 Short-Term Energy Outlook (STEO) datasets, with short-term (2-year) forecasts of each dataset. These datasets can be searched in EIAs [query browse](https://www.eia.gov/opendata/qb.php) facility, which also offers a catalogue of different datasets sorted by relevance. Just as an example to demonstrate, I would be retrieving the **Crude Oil Exports, Monthly**, which has a Series ID '**TOTAL.COEXPUS.M**'."
      ]
    },
    {
      "cell_type": "code",
      "metadata": {
        "id": "HtFjz_tpVu7O",
        "colab": {
          "base_uri": "https://localhost:8080/"
        },
        "outputId": "d5118dd6-cfc5-4306-b4fc-96baeefd7ab6"
      },
      "source": [
        "# Convert to pandas dataframe\n",
        "eia_data = eia.get_series(series_id=\"TOTAL.COEXPUS.M\")\n",
        "print(eia_data)\n"
      ],
      "execution_count": null,
      "outputs": [
        {
          "output_type": "stream",
          "name": "stdout",
          "text": [
            "             TOTAL.COEXPUS.M\n",
            "Date                        \n",
            "2023-12-01          4182.548\n",
            "2023-11-01            4681.1\n",
            "2023-10-01          4111.908\n",
            "2023-09-01          4157.249\n",
            "2023-08-01          4141.492\n",
            "...                      ...\n",
            "1973-05-01             4.129\n",
            "1973-04-01  No Data Reported\n",
            "1973-03-01  No Data Reported\n",
            "1973-02-01  No Data Reported\n",
            "1973-01-01  No Data Reported\n",
            "\n",
            "[612 rows x 1 columns]\n"
          ]
        }
      ]
    },
    {
      "cell_type": "markdown",
      "metadata": {
        "id": "1BMybAdUVu7m"
      },
      "source": [
        "### Data Cleaning\n",
        "\n",
        "Taking a look at the dataframe, I can observe some evident inconsistencies.\n",
        "\n",
        "Firstly, the dataframe provided by the EIA is not of the standard format **datetime**, which pandas indexing supports and provides extensive facility to. I would be writing a function which makes the index a **datetime** object so that I can convert the dataframe to a **datetime**-index dataframe for more compatibility with pandas, hmms, and pgmpy."
      ]
    },
    {
      "cell_type": "code",
      "metadata": {
        "id": "q_E8L83gVu7u"
      },
      "source": [
        "import datetime # Using the datetime library\n",
        "\n",
        "def convert_to_datetime(input):\n",
        "    date_object = input.to_pydatetime().date()\n",
        "    return date_object\n",
        "\n",
        "# Apply to entire index\n",
        "eia_data.index = eia_data.index.map(convert_to_datetime);\n",
        "# Convert dataframe index to datetime64[ns] index\n",
        "eia_data.index = pd.to_datetime(eia_data.index);\n",
        "# pgmpy stores the column names as the variable name\n",
        "eia_data.columns = ['TOTAL.COEXPUS.M'];"
      ],
      "execution_count": null,
      "outputs": []
    },
    {
      "cell_type": "markdown",
      "metadata": {
        "id": "HojKdNoqVu8F"
      },
      "source": [
        "The second issue are **holes** in the data i.e. rows marked by a '-' (a single dash). I would be replacing these dashes by **np.nan** so that I can use pandas to fill in the holes. Usually the prevalance of these holes is very rare, but just to be on the safe side to ensure I can possibly download every dataset."
      ]
    },
    {
      "cell_type": "code",
      "metadata": {
        "id": "XmWp9Qb7Vu8N"
      },
      "source": [
        "# Replace the '-' with np.nan\n",
        "eia_data.replace('-', np.nan, regex=True, inplace=True);\n",
        "# Backward fill the holes, by filling them with the data infront.\n",
        "eia_data.fillna(method='bfill', inplace=True);"
      ],
      "execution_count": null,
      "outputs": []
    },
    {
      "cell_type": "markdown",
      "metadata": {
        "id": "RZ9iTvEoVu8k"
      },
      "source": [
        "Together, I can create a function carrying out the entire process so that I can easily clean EIA data in one step."
      ]
    },
    {
      "cell_type": "code",
      "metadata": {
        "id": "fH34_onnVu8s"
      },
      "source": [
        "def clean_EIA(data):\n",
        "            data.replace('-', np.nan, regex=True, inplace=True);\n",
        "            data.fillna(method='bfill', inplace=True);\n",
        "\n",
        "            data.index = data.index.map(convert_to_datetime);\n",
        "            data.index = pd.to_datetime(data.index);"
      ],
      "execution_count": null,
      "outputs": []
    },
    {
      "cell_type": "markdown",
      "metadata": {
        "id": "8h7r2eWeVu9H"
      },
      "source": [
        "The dataframe is now a time series dataframe which could be plotted as a time-series dataframe."
      ]
    },
    {
      "cell_type": "code",
      "source": [
        "import pandas as pd\n",
        "\n",
        "# Assuming eia_data is a pandas DataFrame\n",
        "eia_data_filtered = eia_data.replace(\"No Data Reported\", np.nan)\n",
        "print(eia_data_filtered)"
      ],
      "metadata": {
        "colab": {
          "base_uri": "https://localhost:8080/"
        },
        "id": "nNkpI3AFQVHE",
        "outputId": "2b3a1de1-b190-4951-c303-098218f938f7"
      },
      "execution_count": null,
      "outputs": [
        {
          "output_type": "stream",
          "name": "stdout",
          "text": [
            "            TOTAL.COEXPUS.M\n",
            "Date                       \n",
            "2023-12-01         4182.548\n",
            "2023-11-01         4681.100\n",
            "2023-10-01         4111.908\n",
            "2023-09-01         4157.249\n",
            "2023-08-01         4141.492\n",
            "...                     ...\n",
            "1973-05-01            4.129\n",
            "1973-04-01              NaN\n",
            "1973-03-01              NaN\n",
            "1973-02-01              NaN\n",
            "1973-01-01              NaN\n",
            "\n",
            "[612 rows x 1 columns]\n"
          ]
        }
      ]
    },
    {
      "cell_type": "code",
      "metadata": {
        "id": "TSOBBzZxVu9O",
        "colab": {
          "base_uri": "https://localhost:8080/",
          "height": 253
        },
        "outputId": "811661bc-c855-4656-e0c7-7a37a23645be"
      },
      "source": [
        "import matplotlib.pyplot as plt\n",
        "\n",
        "fig, ax = plt.subplots(figsize=(20,6));\n",
        "ax.plot(eia_data_filtered);"
      ],
      "execution_count": null,
      "outputs": [
        {
          "output_type": "display_data",
          "data": {
            "text/plain": [
              "<Figure size 2000x600 with 1 Axes>"
            ],
            "image/png": "[encoded data removed]"
          },
          "metadata": {}
        }
      ]
    },
    {
      "cell_type": "markdown",
      "metadata": {
        "id": "ISVvbC4-Vu9t"
      },
      "source": [
        "Now, I shall be taking a look at the FRED data. Similar to [EIA-python](https://github.com/mra1385/EIA-python/), the [fredapi](https://github.com/mortada/fredapi) requires us to register with [FRED API](https://research.stlouisfed.org/docs/api/fred/) so that I can access data. I would download the **Spot Crude Oil Price: West Texas Intermediate**, having the Series ID '**WTISPLC**.'"
      ]
    },
    {
      "cell_type": "code",
      "source": [
        "!pip install fredapi"
      ],
      "metadata": {
        "colab": {
          "base_uri": "https://localhost:8080/"
        },
        "id": "8GHqP9sMRoaV",
        "outputId": "560c8e8a-569c-4edd-eb06-9f5a15ce59a7"
      },
      "execution_count": null,
      "outputs": [
        {
          "output_type": "stream",
          "name": "stdout",
          "text": [
            "Collecting fredapi\n",
            "  Downloading fredapi-0.5.1-py3-none-any.whl (11 kB)\n",
            "Requirement already satisfied: pandas in /usr/local/lib/python3.10/dist-packages (from fredapi) (1.5.3)\n",
            "Requirement already satisfied: python-dateutil>=2.8.1 in /usr/local/lib/python3.10/dist-packages (from pandas->fredapi) (2.8.2)\n",
            "Requirement already satisfied: pytz>=2020.1 in /usr/local/lib/python3.10/dist-packages (from pandas->fredapi) (2023.4)\n",
            "Requirement already satisfied: numpy>=1.21.0 in /usr/local/lib/python3.10/dist-packages (from pandas->fredapi) (1.25.2)\n",
            "Requirement already satisfied: six>=1.5 in /usr/local/lib/python3.10/dist-packages (from python-dateutil>=2.8.1->pandas->fredapi) (1.16.0)\n",
            "Installing collected packages: fredapi\n",
            "Successfully installed fredapi-0.5.1\n"
          ]
        }
      ]
    },
    {
      "cell_type": "code",
      "metadata": {
        "id": "CL8juR2RVu92"
      },
      "source": [
        "from fredapi import Fred\n",
        "\n",
        "# FRED API key\n",
        "fred_key = \"029c72315e9ec4eaf3e679ec3f6a2cb3\";\n",
        "\n",
        "# Initiates a session with the FRED datacenter to recieve datasets\n",
        "fred = Fred(api_key=fred_key);\n",
        "\n",
        "# Retrieve data from FRED API\n",
        "fred_data = pd.DataFrame(fred.get_series('WTISPLC'), columns=['WTISPLC']);"
      ],
      "execution_count": null,
      "outputs": []
    },
    {
      "cell_type": "markdown",
      "metadata": {
        "id": "ZrtG9ZepVu-c"
      },
      "source": [
        "It is evident that the FRED, though still being a government organization, has 'ready-to-use' / 'plug'n play' data of useable quality compared to the EIA. Fortuntely, I will not be having to clean data obtained from the FRED.\n",
        "\n",
        "\n",
        "### Constructing the training, validation and testing datasets (Data transformation)\n",
        "\n",
        "As mentioned in the thesis, I need to divide our data in three portions: the training dataset, the validation dataset, and the training dataset. Given that I would be using a number of datasets from the FRED and the EIA, I would have to amalgamate these datasets into one dataframe and then slice the dataframe accordingly.\n",
        "\n",
        "The train, validation, and test datasets are to be observed with a ratio of $80:10:10$, which is a popular ettiquette  \n",
        "\n",
        "The choice of datasets has been described in the thesis."
      ]
    },
    {
      "cell_type": "code",
      "metadata": {
        "id": "6DOXap_RVu-k"
      },
      "source": [
        "# Dataset series ID from the EIA\n",
        "\n",
        "datasets_eia  = [\n",
        "\n",
        "                        'STEO.RGDPQ_NONOECD.M',\n",
        "                        'STEO.RGDPQ_OECD.M',\n",
        "\n",
        "                        'STEO.PAPR_NONOPEC.M',\n",
        "                        'STEO.PAPR_OPEC.M',\n",
        "\n",
        "                        'STEO.PATC_OECD.M',\n",
        "                        'STEO.PATC_NON_OECD.M',\n",
        "\n",
        "\n",
        "                        'STEO.COPRPUS.M',\n",
        "                        'STEO.CORIPUS.M',\n",
        "                        'PET.MCRIMXX2.M',\n",
        "\n",
        "                        'STEO.FOREX_WORLD.M',\n",
        "\n",
        "                        'STEO.PASC_OECD_T3.M',\n",
        "\n",
        "                        'STEO.COPS_OPEC.M',\n",
        "                        'STEO.COPC_OPEC.M',\n",
        "\n",
        "                        'STEO.T3_STCHANGE_OOECD.M',\n",
        "                        'STEO.T3_STCHANGE_NOECD.M',\n",
        "                ];\n",
        "\n",
        "# Dataset series ID from the FRED\n",
        "\n",
        "datasets_fred = [\n",
        "                        'CPIENGSL',\n",
        "                        'CAPG211S',\n",
        "                        'CAPUTLG211S',\n",
        "                        'IPG211S',\n",
        "                        'IPG211111CN',\n",
        "                        'INDPRO',\n",
        "                        'IPN213111N',\n",
        "                        'PCU211211',\n",
        "\n",
        "                ];"
      ],
      "execution_count": null,
      "outputs": []
    },
    {
      "cell_type": "markdown",
      "metadata": {
        "id": "KD6JHLc3Vu--"
      },
      "source": [
        "To construct the training, validation, and testing datasets, I need to first **concatenate** the datasets into one dataframe, and then slice it."
      ]
    },
    {
      "cell_type": "code",
      "metadata": {
        "id": "VRMDLj1pVu_K"
      },
      "source": [
        "data_merge = []; # List of dataframes to be concatenated\n",
        "# Adding EIA datasets\n",
        "for series_id in datasets_eia:\n",
        "    df = pd.DataFrame(eia.get_series(series_id=\"TOTAL.COEXPUS.M\"))\n",
        "    df.columns = [series_id];\n",
        "    data_merge.append(df);\n",
        "# Adding FRED datasets\n",
        "for series_id in datasets_fred:\n",
        "    df = pd.DataFrame(fred.get_series(series_id), columns=[series_id]);\n",
        "    data_merge.append(df);"
      ],
      "execution_count": null,
      "outputs": []
    },
    {
      "cell_type": "markdown",
      "metadata": {
        "id": "KFKKRukJVu_o"
      },
      "source": [
        "I have to create two additional columns; one which has the current crude oil price, and the other for the price of crude oil next month (forecast). This will be used to forecast the price of oil and hence allow us to make buy/sell decisions based on that forecast."
      ]
    },
    {
      "cell_type": "code",
      "metadata": {
        "id": "7hC5Zt0eVu_v"
      },
      "source": [
        "datasets = datasets_eia + datasets_fred + ['WTISPLC', 'forecast'];\n",
        "\n",
        "current =  pd.DataFrame(fred.get_series('WTISPLC'), columns=['WTISPLC']);\n",
        "forecast = pd.DataFrame(fred.get_series('WTISPLC').shift(-1),\n",
        "                        columns=['forecast']);\n",
        "\n",
        "data_merge.append(current);\n",
        "data_merge.append(forecast);"
      ],
      "execution_count": null,
      "outputs": []
    },
    {
      "cell_type": "markdown",
      "metadata": {
        "id": "gY3fG6-kVvAE"
      },
      "source": [
        "I have to amalgamate all datasets together in a single dataframe, therefore I would use the pandas **concatenate** function. This would allow us to find the intersection of the date intervals of all dataframes and construct a single dataframe on a common time interval."
      ]
    },
    {
      "cell_type": "code",
      "metadata": {
        "id": "Ev234vLTVvAL"
      },
      "source": [
        "data = pd.concat(data_merge, axis=1, join='inner');"
      ],
      "execution_count": null,
      "outputs": []
    },
    {
      "cell_type": "markdown",
      "metadata": {
        "id": "5_Qx6YbxVvAi"
      },
      "source": [
        "Slicing our dataframe in train, validation, and testing datasets,"
      ]
    },
    {
      "cell_type": "code",
      "metadata": {
        "id": "1EQYxqXZVvAp"
      },
      "source": [
        "train_data = data[: int(data.shape[0] * 0.80)];\n",
        "vald_data = data[int(0.80 * data.shape[0]) : int(0.90 * data.shape[0])];\n",
        "test_data = data[int(0.90* data.shape[0]) : int(data.shape[0])];"
      ],
      "execution_count": null,
      "outputs": []
    },
    {
      "cell_type": "markdown",
      "metadata": {
        "id": "Zdi_38GLVvBB"
      },
      "source": [
        "### Data Discretisation\n",
        "\n",
        "The data I have collected is non-categorical data; it is unlabelled and continuous. Belief networks have variables, each having discrete **states**, and therefore I have to reduce our data from prices to a set of states, such as bull, bear, and stagnant markets. In order to detect these (hidden) states, I have to use graphical models called **Hidden Markov Models**. The process of detecting hidden states in time-series data is called **Regime Detection**."
      ]
    },
    {
      "cell_type": "markdown",
      "metadata": {
        "id": "J26jmC2LVvBI"
      },
      "source": [
        "## Regime Detection\n",
        "\n",
        "I would be using Python library called [hmms](https://github.com/lopatovsky/HMMs) for implementing the **Hidden Markov Models**.\n",
        "\n",
        "A **Hidden Markov Model** is a 5-tuple $(Q, \\sum, \\Pi, A, B)$, where $Q = \\{q_{1}, \\cdots, q_{N}\\}$ is a finite set of $\\mathcal{N}$ states, $\\sum = \\{s_1, \\cdots, s_{N}\\}$ is the set of $\\mathcal{M}$ possible symbols (emissions) in the language, $\\Pi = \\{\\pi_{i}\\}$  is the initial probability vector, $A = \\{a_{ij}\\}$ is the state transition probability matrix, and $B = \\{b_i(v_k)\\}$ is the emission probability matrix. The HMM can be denoted by $\\lambda = (\\Pi, A, B)$.\n",
        "\n",
        "For detecting regimes in time-series data, I would be using **Hidden Markov Models**, with the difference between consecutive months being the symbols $\\sum$ (1 - increase / 0 - decrease), the hidden states, $Q$ being the **bull**, **bear**, **stagnant** market regimes.\n",
        "\n",
        "Let us use '**WTISPL**' (Spot Crude Oil Price: West Texas Intermediate)  of  and try to identify regimes in the time series."
      ]
    },
    {
      "cell_type": "code",
      "source": [
        "!pip install hmms"
      ],
      "metadata": {
        "colab": {
          "base_uri": "https://localhost:8080/"
        },
        "id": "hx796dqbTTna",
        "outputId": "7e8d6a41-cdab-49db-89b3-d78b029acff7"
      },
      "execution_count": null,
      "outputs": [
        {
          "output_type": "stream",
          "name": "stdout",
          "text": [
            "Collecting hmms\n",
            "  Downloading hmms-0.2.3.tar.gz (524 kB)\n",
            "\u001b[2K     \u001b[90m━━━━━━━━━━━━━━━━━━━━━━━━━━━━━━━━━━━━━━━━\u001b[0m \u001b[32m524.8/524.8 kB\u001b[0m \u001b[31m6.1 MB/s\u001b[0m eta \u001b[36m0:00:00\u001b[0m\n",
            "\u001b[?25h  Preparing metadata (setup.py) ... \u001b[?25l\u001b[?25hdone\n",
            "Requirement already satisfied: Cython in /usr/local/lib/python3.10/dist-packages (from hmms) (3.0.8)\n",
            "Requirement already satisfied: NumPy in /usr/local/lib/python3.10/dist-packages (from hmms) (1.25.2)\n",
            "Requirement already satisfied: ipython in /usr/local/lib/python3.10/dist-packages (from hmms) (7.34.0)\n",
            "Requirement already satisfied: matplotlib in /usr/local/lib/python3.10/dist-packages (from hmms) (3.7.1)\n",
            "Requirement already satisfied: pandas in /usr/local/lib/python3.10/dist-packages (from hmms) (1.5.3)\n",
            "Requirement already satisfied: scipy in /usr/local/lib/python3.10/dist-packages (from hmms) (1.11.4)\n",
            "Requirement already satisfied: setuptools>=18.5 in /usr/local/lib/python3.10/dist-packages (from ipython->hmms) (67.7.2)\n",
            "Collecting jedi>=0.16 (from ipython->hmms)\n",
            "  Downloading jedi-0.19.1-py2.py3-none-any.whl (1.6 MB)\n",
            "\u001b[2K     \u001b[90m━━━━━━━━━━━━━━━━━━━━━━━━━━━━━━━━━━━━━━━━\u001b[0m \u001b[32m1.6/1.6 MB\u001b[0m \u001b[31m41.3 MB/s\u001b[0m eta \u001b[36m0:00:00\u001b[0m\n",
            "\u001b[?25hRequirement already satisfied: decorator in /usr/local/lib/python3.10/dist-packages (from ipython->hmms) (4.4.2)\n",
            "Requirement already satisfied: pickleshare in /usr/local/lib/python3.10/dist-packages (from ipython->hmms) (0.7.5)\n",
            "Requirement already satisfied: traitlets>=4.2 in /usr/local/lib/python3.10/dist-packages (from ipython->hmms) (5.7.1)\n",
            "Requirement already satisfied: prompt-toolkit!=3.0.0,!=3.0.1,<3.1.0,>=2.0.0 in /usr/local/lib/python3.10/dist-packages (from ipython->hmms) (3.0.43)\n",
            "Requirement already satisfied: pygments in /usr/local/lib/python3.10/dist-packages (from ipython->hmms) (2.16.1)\n",
            "Requirement already satisfied: backcall in /usr/local/lib/python3.10/dist-packages (from ipython->hmms) (0.2.0)\n",
            "Requirement already satisfied: matplotlib-inline in /usr/local/lib/python3.10/dist-packages (from ipython->hmms) (0.1.6)\n",
            "Requirement already satisfied: pexpect>4.3 in /usr/local/lib/python3.10/dist-packages (from ipython->hmms) (4.9.0)\n",
            "Requirement already satisfied: contourpy>=1.0.1 in /usr/local/lib/python3.10/dist-packages (from matplotlib->hmms) (1.2.0)\n",
            "Requirement already satisfied: cycler>=0.10 in /usr/local/lib/python3.10/dist-packages (from matplotlib->hmms) (0.12.1)\n",
            "Requirement already satisfied: fonttools>=4.22.0 in /usr/local/lib/python3.10/dist-packages (from matplotlib->hmms) (4.49.0)\n",
            "Requirement already satisfied: kiwisolver>=1.0.1 in /usr/local/lib/python3.10/dist-packages (from matplotlib->hmms) (1.4.5)\n",
            "Requirement already satisfied: packaging>=20.0 in /usr/local/lib/python3.10/dist-packages (from matplotlib->hmms) (23.2)\n",
            "Requirement already satisfied: pillow>=6.2.0 in /usr/local/lib/python3.10/dist-packages (from matplotlib->hmms) (9.4.0)\n",
            "Requirement already satisfied: pyparsing>=2.3.1 in /usr/local/lib/python3.10/dist-packages (from matplotlib->hmms) (3.1.1)\n",
            "Requirement already satisfied: python-dateutil>=2.7 in /usr/local/lib/python3.10/dist-packages (from matplotlib->hmms) (2.8.2)\n",
            "Requirement already satisfied: pytz>=2020.1 in /usr/local/lib/python3.10/dist-packages (from pandas->hmms) (2023.4)\n",
            "Requirement already satisfied: parso<0.9.0,>=0.8.3 in /usr/local/lib/python3.10/dist-packages (from jedi>=0.16->ipython->hmms) (0.8.3)\n",
            "Requirement already satisfied: ptyprocess>=0.5 in /usr/local/lib/python3.10/dist-packages (from pexpect>4.3->ipython->hmms) (0.7.0)\n",
            "Requirement already satisfied: wcwidth in /usr/local/lib/python3.10/dist-packages (from prompt-toolkit!=3.0.0,!=3.0.1,<3.1.0,>=2.0.0->ipython->hmms) (0.2.13)\n",
            "Requirement already satisfied: six>=1.5 in /usr/local/lib/python3.10/dist-packages (from python-dateutil>=2.7->matplotlib->hmms) (1.16.0)\n",
            "Building wheels for collected packages: hmms\n",
            "  Building wheel for hmms (setup.py) ... \u001b[?25l\u001b[?25hdone\n",
            "  Created wheel for hmms: filename=hmms-0.2.3-cp310-cp310-linux_x86_64.whl size=2152525 sha256=36612ec951bdc1c49e14ba0093b81bf4a6a073d5d0c6b58c29fdfe8f2d5f7335\n",
            "  Stored in directory: /root/.cache/pip/wheels/aa/6f/a4/1dbae244341f24881dce9465aa533729d2ae870cff3866070f\n",
            "Successfully built hmms\n",
            "Installing collected packages: jedi, hmms\n",
            "Successfully installed hmms-0.2.3 jedi-0.19.1\n"
          ]
        }
      ]
    },
    {
      "cell_type": "code",
      "metadata": {
        "id": "Il6I1MygVvBP"
      },
      "source": [
        "import hmms"
      ],
      "execution_count": null,
      "outputs": []
    },
    {
      "cell_type": "code",
      "metadata": {
        "id": "EqVis9pLVvBm"
      },
      "source": [
        "price = train_data['WTISPLC'];"
      ],
      "execution_count": null,
      "outputs": []
    },
    {
      "cell_type": "markdown",
      "metadata": {
        "id": "CbRKalcgVvCN"
      },
      "source": [
        "I will now try to transform the time series which represents the output emissions, with $1$ representing an increase in the price from the previous month and $0$ representing a decrease in the price of the oil."
      ]
    },
    {
      "cell_type": "code",
      "metadata": {
        "id": "42_aMdhOVvCZ"
      },
      "source": [
        "# The first value is NaN as there is not a previous month to compare with\n",
        "price_diff = price.diff()[1:];\n",
        "\n",
        "# Replacing the change with 1 if positive, else 0\n",
        "e_seq = np.array(price_diff.apply(lambda x: 1 if x > 0 else 0).values);"
      ],
      "execution_count": null,
      "outputs": []
    },
    {
      "cell_type": "markdown",
      "metadata": {
        "id": "Qo8xmk2uVvC7"
      },
      "source": [
        "Given that I have obtained the output (observed emission sequence), I can now use the **Baum-Welch algorithm** to learn the parameters of the HMM generating this data.\n",
        "\n",
        "I have earlier described the **Baum-Ilch algorithm** in the Background and Literature review, and I would be using the implementation provided [hmms](https://github.com/lopatovsky/HMMs) to learn the parameters.\n",
        "\n",
        "**IT IS VERY IMPORTANT** to note I can **only** use the training data to train the HMM as I are assuming to be blind to the testing data. However, I would be observing predictions on the validation dataset and will tune our model to fit it, and I would be using the testing dataframe to test the final performance of the tuned model after validation.\n",
        "\n",
        "We will create a model with random parameters, that will be eventually trained to match the data - a discrete time HMM of three hidden states (bull, bear, or stagnant) and two output variables (increase or decrease)."
      ]
    },
    {
      "cell_type": "code",
      "metadata": {
        "id": "RXH_ps8xVvDC"
      },
      "source": [
        "dhmm_r = hmms.DtHMM.random(3 , 2);"
      ],
      "execution_count": null,
      "outputs": []
    },
    {
      "cell_type": "markdown",
      "metadata": {
        "id": "7g9UA1wMVvDl"
      },
      "source": [
        "Given that the $\\texttt{hmms.DtHMM}$ takes a list of arrays no creater than length $32$, I will have to split our array in arrays each of length $32$ or less."
      ]
    },
    {
      "cell_type": "code",
      "metadata": {
        "id": "-uI39n__VvDs"
      },
      "source": [
        "e_seq = np.array_split(e_seq, 32);"
      ],
      "execution_count": null,
      "outputs": []
    },
    {
      "cell_type": "markdown",
      "metadata": {
        "id": "el9ktJ7dVvEJ"
      },
      "source": [
        "### Baum-Welch Algorithm\n",
        "\n",
        "I would now be using the **Baum-Welch algorithm** to learn the parameters of the HMM generating the time-series.\n",
        "\n",
        "The probability of the reestimated model after each iteration should ideally be closer that the (unknown) generator's model, however chances might be the estimation fell in the local optima.\n",
        "\n",
        "Unfortunately, the financial time-series data do not have fixed parameters, so the HMM has to be trained everytime when live-trading, when using the **k-fold cross-validation** training method."
      ]
    },
    {
      "cell_type": "code",
      "metadata": {
        "id": "cJcn2Co0VvEQ",
        "outputId": "fc872e97-53b8-44ba-a5df-a4a17487ef2c",
        "colab": {
          "base_uri": "https://localhost:8080/"
        }
      },
      "source": [
        "dhmm_r.baum_welch(e_seq, 100); # 100 iterations"
      ],
      "execution_count": null,
      "outputs": [
        {
          "output_type": "stream",
          "name": "stdout",
          "text": [
            "iteration  1 / 100\n",
            "iteration  2 / 100\n",
            "iteration  3 / 100\n",
            "iteration  4 / 100\n",
            "iteration  5 / 100\n",
            "iteration  6 / 100\n",
            "iteration  7 / 100\n",
            "iteration  8 / 100\n",
            "iteration  9 / 100\n",
            "iteration  10 / 100\n",
            "iteration  11 / 100\n",
            "iteration  12 / 100\n",
            "iteration  13 / 100\n",
            "iteration  14 / 100\n",
            "iteration  15 / 100\n",
            "iteration  16 / 100\n",
            "iteration  17 / 100\n",
            "iteration  18 / 100\n",
            "iteration  19 / 100\n",
            "iteration  20 / 100\n",
            "iteration  21 / 100\n",
            "iteration  22 / 100\n",
            "iteration  23 / 100\n",
            "iteration  24 / 100\n",
            "iteration  25 / 100\n",
            "iteration  26 / 100\n",
            "iteration  27 / 100\n",
            "iteration  28 / 100\n",
            "iteration  29 / 100\n",
            "iteration  30 / 100\n",
            "iteration  31 / 100\n",
            "iteration  32 / 100\n",
            "iteration  33 / 100\n",
            "iteration  34 / 100\n",
            "iteration  35 / 100\n",
            "iteration  36 / 100\n",
            "iteration  37 / 100\n",
            "iteration  38 / 100\n",
            "iteration  39 / 100\n",
            "iteration  40 / 100\n",
            "iteration  41 / 100\n",
            "iteration  42 / 100\n",
            "iteration  43 / 100\n",
            "iteration  44 / 100\n",
            "iteration  45 / 100\n",
            "iteration  46 / 100\n",
            "iteration  47 / 100\n",
            "iteration  48 / 100\n",
            "iteration  49 / 100\n",
            "iteration  50 / 100\n",
            "iteration  51 / 100\n",
            "iteration  52 / 100\n",
            "iteration  53 / 100\n",
            "iteration  54 / 100\n",
            "iteration  55 / 100\n",
            "iteration  56 / 100\n",
            "iteration  57 / 100\n",
            "iteration  58 / 100\n",
            "iteration  59 / 100\n",
            "iteration  60 / 100\n",
            "iteration  61 / 100\n",
            "iteration  62 / 100\n",
            "iteration  63 / 100\n",
            "iteration  64 / 100\n",
            "iteration  65 / 100\n",
            "iteration  66 / 100\n",
            "iteration  67 / 100\n",
            "iteration  68 / 100\n",
            "iteration  69 / 100\n",
            "iteration  70 / 100\n",
            "iteration  71 / 100\n",
            "iteration  72 / 100\n",
            "iteration  73 / 100\n",
            "iteration  74 / 100\n",
            "iteration  75 / 100\n",
            "iteration  76 / 100\n",
            "iteration  77 / 100\n",
            "iteration  78 / 100\n",
            "iteration  79 / 100\n",
            "iteration  80 / 100\n",
            "iteration  81 / 100\n",
            "iteration  82 / 100\n",
            "iteration  83 / 100\n",
            "iteration  84 / 100\n",
            "iteration  85 / 100\n",
            "iteration  86 / 100\n",
            "iteration  87 / 100\n",
            "iteration  88 / 100\n",
            "iteration  89 / 100\n",
            "iteration  90 / 100\n",
            "iteration  91 / 100\n",
            "iteration  92 / 100\n",
            "iteration  93 / 100\n",
            "iteration  94 / 100\n",
            "iteration  95 / 100\n",
            "iteration  96 / 100\n",
            "iteration  97 / 100\n",
            "iteration  98 / 100\n",
            "iteration  99 / 100\n",
            "iteration  100 / 100\n"
          ]
        }
      ]
    },
    {
      "cell_type": "markdown",
      "metadata": {
        "id": "fIeXZwrTVvFB"
      },
      "source": [
        "I have now learnt the parameters generating the emission sequence."
      ]
    },
    {
      "cell_type": "code",
      "metadata": {
        "id": "WWpHkW14VvFJ",
        "outputId": "05784cba-a272-431e-b6a1-a58cf154b7bf",
        "colab": {
          "base_uri": "https://localhost:8080/",
          "height": 448
        }
      },
      "source": [
        "hmms.print_parameters( dhmm_r );"
      ],
      "execution_count": null,
      "outputs": [
        {
          "output_type": "stream",
          "name": "stdout",
          "text": [
            "Initial probabilities (π) :\n"
          ]
        },
        {
          "output_type": "display_data",
          "data": {
            "text/plain": [
              "          0\n",
              "0  0.386280\n",
              "1  0.044766\n",
              "2  0.568954"
            ],
            "text/html": [
              "\n",
              "  <div id=\"df-3dedc4a4-528d-49c4-9919-1a221f3f9b00\" class=\"colab-df-container\">\n",
              "    <div>\n",
              "<style scoped>\n",
              "    .dataframe tbody tr th:only-of-type {\n",
              "        vertical-align: middle;\n",
              "    }\n",
              "\n",
              "    .dataframe tbody tr th {\n",
              "        vertical-align: top;\n",
              "    }\n",
              "\n",
              "    .dataframe thead th {\n",
              "        text-align: right;\n",
              "    }\n",
              "</style>\n",
              "<table border=\"1\" class=\"dataframe\">\n",
              "  <thead>\n",
              "    <tr style=\"text-align: right;\">\n",
              "      <th></th>\n",
              "      <th>0</th>\n",
              "    </tr>\n",
              "  </thead>\n",
              "  <tbody>\n",
              "    <tr>\n",
              "      <th>0</th>\n",
              "      <td>0.386280</td>\n",
              "    </tr>\n",
              "    <tr>\n",
              "      <th>1</th>\n",
              "      <td>0.044766</td>\n",
              "    </tr>\n",
              "    <tr>\n",
              "      <th>2</th>\n",
              "      <td>0.568954</td>\n",
              "    </tr>\n",
              "  </tbody>\n",
              "</table>\n",
              "</div>\n",
              "    <div class=\"colab-df-buttons\">\n",
              "\n",
              "  <div class=\"colab-df-container\">\n",
              "    <button class=\"colab-df-convert\" onclick=\"convertToInteractive('df-3dedc4a4-528d-49c4-9919-1a221f3f9b00')\"\n",
              "            title=\"Convert this dataframe to an interactive table.\"\n",
              "            style=\"display:none;\">\n",
              "\n",
              "  <svg xmlns=\"http://www.w3.org/2000/svg\" height=\"24px\" viewBox=\"0 -960 960 960\">\n",
              "    <path d=\"M120-120v-720h720v720H120Zm60-500h600v-160H180v160Zm220 220h160v-160H400v160Zm0 220h160v-160H400v160ZM180-400h160v-160H180v160Zm440 0h160v-160H620v160ZM180-180h160v-160H180v160Zm440 0h160v-160H620v160Z\"/>\n",
              "  </svg>\n",
              "    </button>\n",
              "\n",
              "  <style>\n",
              "    .colab-df-container {\n",
              "      display:flex;\n",
              "      gap: 12px;\n",
              "    }\n",
              "\n",
              "    .colab-df-convert {\n",
              "      background-color: #E8F0FE;\n",
              "      border: none;\n",
              "      border-radius: 50%;\n",
              "      cursor: pointer;\n",
              "      display: none;\n",
              "      fill: #1967D2;\n",
              "      height: 32px;\n",
              "      padding: 0 0 0 0;\n",
              "      width: 32px;\n",
              "    }\n",
              "\n",
              "    .colab-df-convert:hover {\n",
              "      background-color: #E2EBFA;\n",
              "      box-shadow: 0px 1px 2px rgba(60, 64, 67, 0.3), 0px 1px 3px 1px rgba(60, 64, 67, 0.15);\n",
              "      fill: #174EA6;\n",
              "    }\n",
              "\n",
              "    .colab-df-buttons div {\n",
              "      margin-bottom: 4px;\n",
              "    }\n",
              "\n",
              "    [theme=dark] .colab-df-convert {\n",
              "      background-color: #3B4455;\n",
              "      fill: #D2E3FC;\n",
              "    }\n",
              "\n",
              "    [theme=dark] .colab-df-convert:hover {\n",
              "      background-color: #434B5C;\n",
              "      box-shadow: 0px 1px 3px 1px rgba(0, 0, 0, 0.15);\n",
              "      filter: drop-shadow(0px 1px 2px rgba(0, 0, 0, 0.3));\n",
              "      fill: #FFFFFF;\n",
              "    }\n",
              "  </style>\n",
              "\n",
              "    <script>\n",
              "      const buttonEl =\n",
              "        document.querySelector('#df-3dedc4a4-528d-49c4-9919-1a221f3f9b00 button.colab-df-convert');\n",
              "      buttonEl.style.display =\n",
              "        google.colab.kernel.accessAllowed ? 'block' : 'none';\n",
              "\n",
              "      async function convertToInteractive(key) {\n",
              "        const element = document.querySelector('#df-3dedc4a4-528d-49c4-9919-1a221f3f9b00');\n",
              "        const dataTable =\n",
              "          await google.colab.kernel.invokeFunction('convertToInteractive',\n",
              "                                                    [key], {});\n",
              "        if (!dataTable) return;\n",
              "\n",
              "        const docLinkHtml = 'Like what you see? Visit the ' +\n",
              "          '<a target=\"_blank\" href=https://colab.research.google.com/notebooks/data_table.ipynb>data table notebook</a>'\n",
              "          + ' to learn more about interactive tables.';\n",
              "        element.innerHTML = '';\n",
              "        dataTable['output_type'] = 'display_data';\n",
              "        await google.colab.output.renderOutput(dataTable, element);\n",
              "        const docLink = document.createElement('div');\n",
              "        docLink.innerHTML = docLinkHtml;\n",
              "        element.appendChild(docLink);\n",
              "      }\n",
              "    </script>\n",
              "  </div>\n",
              "\n",
              "\n",
              "<div id=\"df-4645979a-c0e0-4953-8a2f-37e824f36e28\">\n",
              "  <button class=\"colab-df-quickchart\" onclick=\"quickchart('df-4645979a-c0e0-4953-8a2f-37e824f36e28')\"\n",
              "            title=\"Suggest charts\"\n",
              "            style=\"display:none;\">\n",
              "\n",
              "<svg xmlns=\"http://www.w3.org/2000/svg\" height=\"24px\"viewBox=\"0 0 24 24\"\n",
              "     width=\"24px\">\n",
              "    <g>\n",
              "        <path d=\"M19 3H5c-1.1 0-2 .9-2 2v14c0 1.1.9 2 2 2h14c1.1 0 2-.9 2-2V5c0-1.1-.9-2-2-2zM9 17H7v-7h2v7zm4 0h-2V7h2v10zm4 0h-2v-4h2v4z\"/>\n",
              "    </g>\n",
              "</svg>\n",
              "  </button>\n",
              "\n",
              "<style>\n",
              "  .colab-df-quickchart {\n",
              "      --bg-color: #E8F0FE;\n",
              "      --fill-color: #1967D2;\n",
              "      --hover-bg-color: #E2EBFA;\n",
              "      --hover-fill-color: #174EA6;\n",
              "      --disabled-fill-color: #AAA;\n",
              "      --disabled-bg-color: #DDD;\n",
              "  }\n",
              "\n",
              "  [theme=dark] .colab-df-quickchart {\n",
              "      --bg-color: #3B4455;\n",
              "      --fill-color: #D2E3FC;\n",
              "      --hover-bg-color: #434B5C;\n",
              "      --hover-fill-color: #FFFFFF;\n",
              "      --disabled-bg-color: #3B4455;\n",
              "      --disabled-fill-color: #666;\n",
              "  }\n",
              "\n",
              "  .colab-df-quickchart {\n",
              "    background-color: var(--bg-color);\n",
              "    border: none;\n",
              "    border-radius: 50%;\n",
              "    cursor: pointer;\n",
              "    display: none;\n",
              "    fill: var(--fill-color);\n",
              "    height: 32px;\n",
              "    padding: 0;\n",
              "    width: 32px;\n",
              "  }\n",
              "\n",
              "  .colab-df-quickchart:hover {\n",
              "    background-color: var(--hover-bg-color);\n",
              "    box-shadow: 0 1px 2px rgba(60, 64, 67, 0.3), 0 1px 3px 1px rgba(60, 64, 67, 0.15);\n",
              "    fill: var(--button-hover-fill-color);\n",
              "  }\n",
              "\n",
              "  .colab-df-quickchart-complete:disabled,\n",
              "  .colab-df-quickchart-complete:disabled:hover {\n",
              "    background-color: var(--disabled-bg-color);\n",
              "    fill: var(--disabled-fill-color);\n",
              "    box-shadow: none;\n",
              "  }\n",
              "\n",
              "  .colab-df-spinner {\n",
              "    border: 2px solid var(--fill-color);\n",
              "    border-color: transparent;\n",
              "    border-bottom-color: var(--fill-color);\n",
              "    animation:\n",
              "      spin 1s steps(1) infinite;\n",
              "  }\n",
              "\n",
              "  @keyframes spin {\n",
              "    0% {\n",
              "      border-color: transparent;\n",
              "      border-bottom-color: var(--fill-color);\n",
              "      border-left-color: var(--fill-color);\n",
              "    }\n",
              "    20% {\n",
              "      border-color: transparent;\n",
              "      border-left-color: var(--fill-color);\n",
              "      border-top-color: var(--fill-color);\n",
              "    }\n",
              "    30% {\n",
              "      border-color: transparent;\n",
              "      border-left-color: var(--fill-color);\n",
              "      border-top-color: var(--fill-color);\n",
              "      border-right-color: var(--fill-color);\n",
              "    }\n",
              "    40% {\n",
              "      border-color: transparent;\n",
              "      border-right-color: var(--fill-color);\n",
              "      border-top-color: var(--fill-color);\n",
              "    }\n",
              "    60% {\n",
              "      border-color: transparent;\n",
              "      border-right-color: var(--fill-color);\n",
              "    }\n",
              "    80% {\n",
              "      border-color: transparent;\n",
              "      border-right-color: var(--fill-color);\n",
              "      border-bottom-color: var(--fill-color);\n",
              "    }\n",
              "    90% {\n",
              "      border-color: transparent;\n",
              "      border-bottom-color: var(--fill-color);\n",
              "    }\n",
              "  }\n",
              "</style>\n",
              "\n",
              "  <script>\n",
              "    async function quickchart(key) {\n",
              "      const quickchartButtonEl =\n",
              "        document.querySelector('#' + key + ' button');\n",
              "      quickchartButtonEl.disabled = true;  // To prevent multiple clicks.\n",
              "      quickchartButtonEl.classList.add('colab-df-spinner');\n",
              "      try {\n",
              "        const charts = await google.colab.kernel.invokeFunction(\n",
              "            'suggestCharts', [key], {});\n",
              "      } catch (error) {\n",
              "        console.error('Error during call to suggestCharts:', error);\n",
              "      }\n",
              "      quickchartButtonEl.classList.remove('colab-df-spinner');\n",
              "      quickchartButtonEl.classList.add('colab-df-quickchart-complete');\n",
              "    }\n",
              "    (() => {\n",
              "      let quickchartButtonEl =\n",
              "        document.querySelector('#df-4645979a-c0e0-4953-8a2f-37e824f36e28 button');\n",
              "      quickchartButtonEl.style.display =\n",
              "        google.colab.kernel.accessAllowed ? 'block' : 'none';\n",
              "    })();\n",
              "  </script>\n",
              "</div>\n",
              "\n",
              "    </div>\n",
              "  </div>\n"
            ],
            "application/vnd.google.colaboratory.intrinsic+json": {
              "type": "dataframe",
              "summary": "{\n  \"name\": \"hmms\",\n  \"rows\": 3,\n  \"fields\": [\n    {\n      \"column\": 0,\n      \"properties\": {\n        \"dtype\": \"number\",\n        \"std\": 0.2660747566849395,\n        \"min\": 0.044765845202977786,\n        \"max\": 0.5689537060890457,\n        \"num_unique_values\": 3,\n        \"samples\": [\n          0.3862804487079768,\n          0.044765845202977786,\n          0.5689537060890457\n        ],\n        \"semantic_type\": \"\",\n        \"description\": \"\"\n      }\n    }\n  ]\n}"
            }
          },
          "metadata": {}
        },
        {
          "output_type": "stream",
          "name": "stdout",
          "text": [
            "Transition probabilities matrix (A):\n"
          ]
        },
        {
          "output_type": "display_data",
          "data": {
            "text/plain": [
              "          0         1         2\n",
              "0  0.417494  0.276793  0.305713\n",
              "1  0.469719  0.529470  0.000811\n",
              "2  0.028759  0.620292  0.350949"
            ],
            "text/html": [
              "\n",
              "  <div id=\"df-1c702e4c-7a3d-485d-842c-202b2384d12b\" class=\"colab-df-container\">\n",
              "    <div>\n",
              "<style scoped>\n",
              "    .dataframe tbody tr th:only-of-type {\n",
              "        vertical-align: middle;\n",
              "    }\n",
              "\n",
              "    .dataframe tbody tr th {\n",
              "        vertical-align: top;\n",
              "    }\n",
              "\n",
              "    .dataframe thead th {\n",
              "        text-align: right;\n",
              "    }\n",
              "</style>\n",
              "<table border=\"1\" class=\"dataframe\">\n",
              "  <thead>\n",
              "    <tr style=\"text-align: right;\">\n",
              "      <th></th>\n",
              "      <th>0</th>\n",
              "      <th>1</th>\n",
              "      <th>2</th>\n",
              "    </tr>\n",
              "  </thead>\n",
              "  <tbody>\n",
              "    <tr>\n",
              "      <th>0</th>\n",
              "      <td>0.417494</td>\n",
              "      <td>0.276793</td>\n",
              "      <td>0.305713</td>\n",
              "    </tr>\n",
              "    <tr>\n",
              "      <th>1</th>\n",
              "      <td>0.469719</td>\n",
              "      <td>0.529470</td>\n",
              "      <td>0.000811</td>\n",
              "    </tr>\n",
              "    <tr>\n",
              "      <th>2</th>\n",
              "      <td>0.028759</td>\n",
              "      <td>0.620292</td>\n",
              "      <td>0.350949</td>\n",
              "    </tr>\n",
              "  </tbody>\n",
              "</table>\n",
              "</div>\n",
              "    <div class=\"colab-df-buttons\">\n",
              "\n",
              "  <div class=\"colab-df-container\">\n",
              "    <button class=\"colab-df-convert\" onclick=\"convertToInteractive('df-1c702e4c-7a3d-485d-842c-202b2384d12b')\"\n",
              "            title=\"Convert this dataframe to an interactive table.\"\n",
              "            style=\"display:none;\">\n",
              "\n",
              "  <svg xmlns=\"http://www.w3.org/2000/svg\" height=\"24px\" viewBox=\"0 -960 960 960\">\n",
              "    <path d=\"M120-120v-720h720v720H120Zm60-500h600v-160H180v160Zm220 220h160v-160H400v160Zm0 220h160v-160H400v160ZM180-400h160v-160H180v160Zm440 0h160v-160H620v160ZM180-180h160v-160H180v160Zm440 0h160v-160H620v160Z\"/>\n",
              "  </svg>\n",
              "    </button>\n",
              "\n",
              "  <style>\n",
              "    .colab-df-container {\n",
              "      display:flex;\n",
              "      gap: 12px;\n",
              "    }\n",
              "\n",
              "    .colab-df-convert {\n",
              "      background-color: #E8F0FE;\n",
              "      border: none;\n",
              "      border-radius: 50%;\n",
              "      cursor: pointer;\n",
              "      display: none;\n",
              "      fill: #1967D2;\n",
              "      height: 32px;\n",
              "      padding: 0 0 0 0;\n",
              "      width: 32px;\n",
              "    }\n",
              "\n",
              "    .colab-df-convert:hover {\n",
              "      background-color: #E2EBFA;\n",
              "      box-shadow: 0px 1px 2px rgba(60, 64, 67, 0.3), 0px 1px 3px 1px rgba(60, 64, 67, 0.15);\n",
              "      fill: #174EA6;\n",
              "    }\n",
              "\n",
              "    .colab-df-buttons div {\n",
              "      margin-bottom: 4px;\n",
              "    }\n",
              "\n",
              "    [theme=dark] .colab-df-convert {\n",
              "      background-color: #3B4455;\n",
              "      fill: #D2E3FC;\n",
              "    }\n",
              "\n",
              "    [theme=dark] .colab-df-convert:hover {\n",
              "      background-color: #434B5C;\n",
              "      box-shadow: 0px 1px 3px 1px rgba(0, 0, 0, 0.15);\n",
              "      filter: drop-shadow(0px 1px 2px rgba(0, 0, 0, 0.3));\n",
              "      fill: #FFFFFF;\n",
              "    }\n",
              "  </style>\n",
              "\n",
              "    <script>\n",
              "      const buttonEl =\n",
              "        document.querySelector('#df-1c702e4c-7a3d-485d-842c-202b2384d12b button.colab-df-convert');\n",
              "      buttonEl.style.display =\n",
              "        google.colab.kernel.accessAllowed ? 'block' : 'none';\n",
              "\n",
              "      async function convertToInteractive(key) {\n",
              "        const element = document.querySelector('#df-1c702e4c-7a3d-485d-842c-202b2384d12b');\n",
              "        const dataTable =\n",
              "          await google.colab.kernel.invokeFunction('convertToInteractive',\n",
              "                                                    [key], {});\n",
              "        if (!dataTable) return;\n",
              "\n",
              "        const docLinkHtml = 'Like what you see? Visit the ' +\n",
              "          '<a target=\"_blank\" href=https://colab.research.google.com/notebooks/data_table.ipynb>data table notebook</a>'\n",
              "          + ' to learn more about interactive tables.';\n",
              "        element.innerHTML = '';\n",
              "        dataTable['output_type'] = 'display_data';\n",
              "        await google.colab.output.renderOutput(dataTable, element);\n",
              "        const docLink = document.createElement('div');\n",
              "        docLink.innerHTML = docLinkHtml;\n",
              "        element.appendChild(docLink);\n",
              "      }\n",
              "    </script>\n",
              "  </div>\n",
              "\n",
              "\n",
              "<div id=\"df-0ff36c4b-6ac9-4ebb-a457-4a44fcb21ef6\">\n",
              "  <button class=\"colab-df-quickchart\" onclick=\"quickchart('df-0ff36c4b-6ac9-4ebb-a457-4a44fcb21ef6')\"\n",
              "            title=\"Suggest charts\"\n",
              "            style=\"display:none;\">\n",
              "\n",
              "<svg xmlns=\"http://www.w3.org/2000/svg\" height=\"24px\"viewBox=\"0 0 24 24\"\n",
              "     width=\"24px\">\n",
              "    <g>\n",
              "        <path d=\"M19 3H5c-1.1 0-2 .9-2 2v14c0 1.1.9 2 2 2h14c1.1 0 2-.9 2-2V5c0-1.1-.9-2-2-2zM9 17H7v-7h2v7zm4 0h-2V7h2v10zm4 0h-2v-4h2v4z\"/>\n",
              "    </g>\n",
              "</svg>\n",
              "  </button>\n",
              "\n",
              "<style>\n",
              "  .colab-df-quickchart {\n",
              "      --bg-color: #E8F0FE;\n",
              "      --fill-color: #1967D2;\n",
              "      --hover-bg-color: #E2EBFA;\n",
              "      --hover-fill-color: #174EA6;\n",
              "      --disabled-fill-color: #AAA;\n",
              "      --disabled-bg-color: #DDD;\n",
              "  }\n",
              "\n",
              "  [theme=dark] .colab-df-quickchart {\n",
              "      --bg-color: #3B4455;\n",
              "      --fill-color: #D2E3FC;\n",
              "      --hover-bg-color: #434B5C;\n",
              "      --hover-fill-color: #FFFFFF;\n",
              "      --disabled-bg-color: #3B4455;\n",
              "      --disabled-fill-color: #666;\n",
              "  }\n",
              "\n",
              "  .colab-df-quickchart {\n",
              "    background-color: var(--bg-color);\n",
              "    border: none;\n",
              "    border-radius: 50%;\n",
              "    cursor: pointer;\n",
              "    display: none;\n",
              "    fill: var(--fill-color);\n",
              "    height: 32px;\n",
              "    padding: 0;\n",
              "    width: 32px;\n",
              "  }\n",
              "\n",
              "  .colab-df-quickchart:hover {\n",
              "    background-color: var(--hover-bg-color);\n",
              "    box-shadow: 0 1px 2px rgba(60, 64, 67, 0.3), 0 1px 3px 1px rgba(60, 64, 67, 0.15);\n",
              "    fill: var(--button-hover-fill-color);\n",
              "  }\n",
              "\n",
              "  .colab-df-quickchart-complete:disabled,\n",
              "  .colab-df-quickchart-complete:disabled:hover {\n",
              "    background-color: var(--disabled-bg-color);\n",
              "    fill: var(--disabled-fill-color);\n",
              "    box-shadow: none;\n",
              "  }\n",
              "\n",
              "  .colab-df-spinner {\n",
              "    border: 2px solid var(--fill-color);\n",
              "    border-color: transparent;\n",
              "    border-bottom-color: var(--fill-color);\n",
              "    animation:\n",
              "      spin 1s steps(1) infinite;\n",
              "  }\n",
              "\n",
              "  @keyframes spin {\n",
              "    0% {\n",
              "      border-color: transparent;\n",
              "      border-bottom-color: var(--fill-color);\n",
              "      border-left-color: var(--fill-color);\n",
              "    }\n",
              "    20% {\n",
              "      border-color: transparent;\n",
              "      border-left-color: var(--fill-color);\n",
              "      border-top-color: var(--fill-color);\n",
              "    }\n",
              "    30% {\n",
              "      border-color: transparent;\n",
              "      border-left-color: var(--fill-color);\n",
              "      border-top-color: var(--fill-color);\n",
              "      border-right-color: var(--fill-color);\n",
              "    }\n",
              "    40% {\n",
              "      border-color: transparent;\n",
              "      border-right-color: var(--fill-color);\n",
              "      border-top-color: var(--fill-color);\n",
              "    }\n",
              "    60% {\n",
              "      border-color: transparent;\n",
              "      border-right-color: var(--fill-color);\n",
              "    }\n",
              "    80% {\n",
              "      border-color: transparent;\n",
              "      border-right-color: var(--fill-color);\n",
              "      border-bottom-color: var(--fill-color);\n",
              "    }\n",
              "    90% {\n",
              "      border-color: transparent;\n",
              "      border-bottom-color: var(--fill-color);\n",
              "    }\n",
              "  }\n",
              "</style>\n",
              "\n",
              "  <script>\n",
              "    async function quickchart(key) {\n",
              "      const quickchartButtonEl =\n",
              "        document.querySelector('#' + key + ' button');\n",
              "      quickchartButtonEl.disabled = true;  // To prevent multiple clicks.\n",
              "      quickchartButtonEl.classList.add('colab-df-spinner');\n",
              "      try {\n",
              "        const charts = await google.colab.kernel.invokeFunction(\n",
              "            'suggestCharts', [key], {});\n",
              "      } catch (error) {\n",
              "        console.error('Error during call to suggestCharts:', error);\n",
              "      }\n",
              "      quickchartButtonEl.classList.remove('colab-df-spinner');\n",
              "      quickchartButtonEl.classList.add('colab-df-quickchart-complete');\n",
              "    }\n",
              "    (() => {\n",
              "      let quickchartButtonEl =\n",
              "        document.querySelector('#df-0ff36c4b-6ac9-4ebb-a457-4a44fcb21ef6 button');\n",
              "      quickchartButtonEl.style.display =\n",
              "        google.colab.kernel.accessAllowed ? 'block' : 'none';\n",
              "    })();\n",
              "  </script>\n",
              "</div>\n",
              "\n",
              "    </div>\n",
              "  </div>\n"
            ],
            "application/vnd.google.colaboratory.intrinsic+json": {
              "type": "dataframe",
              "summary": "{\n  \"name\": \"hmms\",\n  \"rows\": 3,\n  \"fields\": [\n    {\n      \"column\": 0,\n      \"properties\": {\n        \"dtype\": \"number\",\n        \"std\": 0.24093140874450464,\n        \"min\": 0.028759169019732165,\n        \"max\": 0.4697188672745735,\n        \"num_unique_values\": 3,\n        \"samples\": [\n          0.4174940018625964,\n          0.4697188672745735,\n          0.028759169019732165\n        ],\n        \"semantic_type\": \"\",\n        \"description\": \"\"\n      }\n    },\n    {\n      \"column\": 1,\n      \"properties\": {\n        \"dtype\": \"number\",\n        \"std\": 0.17799128222845495,\n        \"min\": 0.2767931443061931,\n        \"max\": 0.6202915029987855,\n        \"num_unique_values\": 3,\n        \"samples\": [\n          0.2767931443061931,\n          0.5294703647112584,\n          0.6202915029987855\n        ],\n        \"semantic_type\": \"\",\n        \"description\": \"\"\n      }\n    },\n    {\n      \"column\": 2,\n      \"properties\": {\n        \"dtype\": \"number\",\n        \"std\": 0.19044186851684175,\n        \"min\": 0.0008107680141675384,\n        \"max\": 0.3509493279814824,\n        \"num_unique_values\": 3,\n        \"samples\": [\n          0.30571285383120994,\n          0.0008107680141675384,\n          0.3509493279814824\n        ],\n        \"semantic_type\": \"\",\n        \"description\": \"\"\n      }\n    }\n  ]\n}"
            }
          },
          "metadata": {}
        },
        {
          "output_type": "stream",
          "name": "stdout",
          "text": [
            "Emission probabilities matrix (B):\n"
          ]
        },
        {
          "output_type": "display_data",
          "data": {
            "text/plain": [
              "          0         1\n",
              "0  0.058006  0.941994\n",
              "1  0.837929  0.162071\n",
              "2  0.992281  0.007719"
            ],
            "text/html": [
              "\n",
              "  <div id=\"df-d978a77b-2972-43fe-9a59-e0a7b01f95a5\" class=\"colab-df-container\">\n",
              "    <div>\n",
              "<style scoped>\n",
              "    .dataframe tbody tr th:only-of-type {\n",
              "        vertical-align: middle;\n",
              "    }\n",
              "\n",
              "    .dataframe tbody tr th {\n",
              "        vertical-align: top;\n",
              "    }\n",
              "\n",
              "    .dataframe thead th {\n",
              "        text-align: right;\n",
              "    }\n",
              "</style>\n",
              "<table border=\"1\" class=\"dataframe\">\n",
              "  <thead>\n",
              "    <tr style=\"text-align: right;\">\n",
              "      <th></th>\n",
              "      <th>0</th>\n",
              "      <th>1</th>\n",
              "    </tr>\n",
              "  </thead>\n",
              "  <tbody>\n",
              "    <tr>\n",
              "      <th>0</th>\n",
              "      <td>0.058006</td>\n",
              "      <td>0.941994</td>\n",
              "    </tr>\n",
              "    <tr>\n",
              "      <th>1</th>\n",
              "      <td>0.837929</td>\n",
              "      <td>0.162071</td>\n",
              "    </tr>\n",
              "    <tr>\n",
              "      <th>2</th>\n",
              "      <td>0.992281</td>\n",
              "      <td>0.007719</td>\n",
              "    </tr>\n",
              "  </tbody>\n",
              "</table>\n",
              "</div>\n",
              "    <div class=\"colab-df-buttons\">\n",
              "\n",
              "  <div class=\"colab-df-container\">\n",
              "    <button class=\"colab-df-convert\" onclick=\"convertToInteractive('df-d978a77b-2972-43fe-9a59-e0a7b01f95a5')\"\n",
              "            title=\"Convert this dataframe to an interactive table.\"\n",
              "            style=\"display:none;\">\n",
              "\n",
              "  <svg xmlns=\"http://www.w3.org/2000/svg\" height=\"24px\" viewBox=\"0 -960 960 960\">\n",
              "    <path d=\"M120-120v-720h720v720H120Zm60-500h600v-160H180v160Zm220 220h160v-160H400v160Zm0 220h160v-160H400v160ZM180-400h160v-160H180v160Zm440 0h160v-160H620v160ZM180-180h160v-160H180v160Zm440 0h160v-160H620v160Z\"/>\n",
              "  </svg>\n",
              "    </button>\n",
              "\n",
              "  <style>\n",
              "    .colab-df-container {\n",
              "      display:flex;\n",
              "      gap: 12px;\n",
              "    }\n",
              "\n",
              "    .colab-df-convert {\n",
              "      background-color: #E8F0FE;\n",
              "      border: none;\n",
              "      border-radius: 50%;\n",
              "      cursor: pointer;\n",
              "      display: none;\n",
              "      fill: #1967D2;\n",
              "      height: 32px;\n",
              "      padding: 0 0 0 0;\n",
              "      width: 32px;\n",
              "    }\n",
              "\n",
              "    .colab-df-convert:hover {\n",
              "      background-color: #E2EBFA;\n",
              "      box-shadow: 0px 1px 2px rgba(60, 64, 67, 0.3), 0px 1px 3px 1px rgba(60, 64, 67, 0.15);\n",
              "      fill: #174EA6;\n",
              "    }\n",
              "\n",
              "    .colab-df-buttons div {\n",
              "      margin-bottom: 4px;\n",
              "    }\n",
              "\n",
              "    [theme=dark] .colab-df-convert {\n",
              "      background-color: #3B4455;\n",
              "      fill: #D2E3FC;\n",
              "    }\n",
              "\n",
              "    [theme=dark] .colab-df-convert:hover {\n",
              "      background-color: #434B5C;\n",
              "      box-shadow: 0px 1px 3px 1px rgba(0, 0, 0, 0.15);\n",
              "      filter: drop-shadow(0px 1px 2px rgba(0, 0, 0, 0.3));\n",
              "      fill: #FFFFFF;\n",
              "    }\n",
              "  </style>\n",
              "\n",
              "    <script>\n",
              "      const buttonEl =\n",
              "        document.querySelector('#df-d978a77b-2972-43fe-9a59-e0a7b01f95a5 button.colab-df-convert');\n",
              "      buttonEl.style.display =\n",
              "        google.colab.kernel.accessAllowed ? 'block' : 'none';\n",
              "\n",
              "      async function convertToInteractive(key) {\n",
              "        const element = document.querySelector('#df-d978a77b-2972-43fe-9a59-e0a7b01f95a5');\n",
              "        const dataTable =\n",
              "          await google.colab.kernel.invokeFunction('convertToInteractive',\n",
              "                                                    [key], {});\n",
              "        if (!dataTable) return;\n",
              "\n",
              "        const docLinkHtml = 'Like what you see? Visit the ' +\n",
              "          '<a target=\"_blank\" href=https://colab.research.google.com/notebooks/data_table.ipynb>data table notebook</a>'\n",
              "          + ' to learn more about interactive tables.';\n",
              "        element.innerHTML = '';\n",
              "        dataTable['output_type'] = 'display_data';\n",
              "        await google.colab.output.renderOutput(dataTable, element);\n",
              "        const docLink = document.createElement('div');\n",
              "        docLink.innerHTML = docLinkHtml;\n",
              "        element.appendChild(docLink);\n",
              "      }\n",
              "    </script>\n",
              "  </div>\n",
              "\n",
              "\n",
              "<div id=\"df-548d322a-c163-4a16-9734-4b53600a6ae0\">\n",
              "  <button class=\"colab-df-quickchart\" onclick=\"quickchart('df-548d322a-c163-4a16-9734-4b53600a6ae0')\"\n",
              "            title=\"Suggest charts\"\n",
              "            style=\"display:none;\">\n",
              "\n",
              "<svg xmlns=\"http://www.w3.org/2000/svg\" height=\"24px\"viewBox=\"0 0 24 24\"\n",
              "     width=\"24px\">\n",
              "    <g>\n",
              "        <path d=\"M19 3H5c-1.1 0-2 .9-2 2v14c0 1.1.9 2 2 2h14c1.1 0 2-.9 2-2V5c0-1.1-.9-2-2-2zM9 17H7v-7h2v7zm4 0h-2V7h2v10zm4 0h-2v-4h2v4z\"/>\n",
              "    </g>\n",
              "</svg>\n",
              "  </button>\n",
              "\n",
              "<style>\n",
              "  .colab-df-quickchart {\n",
              "      --bg-color: #E8F0FE;\n",
              "      --fill-color: #1967D2;\n",
              "      --hover-bg-color: #E2EBFA;\n",
              "      --hover-fill-color: #174EA6;\n",
              "      --disabled-fill-color: #AAA;\n",
              "      --disabled-bg-color: #DDD;\n",
              "  }\n",
              "\n",
              "  [theme=dark] .colab-df-quickchart {\n",
              "      --bg-color: #3B4455;\n",
              "      --fill-color: #D2E3FC;\n",
              "      --hover-bg-color: #434B5C;\n",
              "      --hover-fill-color: #FFFFFF;\n",
              "      --disabled-bg-color: #3B4455;\n",
              "      --disabled-fill-color: #666;\n",
              "  }\n",
              "\n",
              "  .colab-df-quickchart {\n",
              "    background-color: var(--bg-color);\n",
              "    border: none;\n",
              "    border-radius: 50%;\n",
              "    cursor: pointer;\n",
              "    display: none;\n",
              "    fill: var(--fill-color);\n",
              "    height: 32px;\n",
              "    padding: 0;\n",
              "    width: 32px;\n",
              "  }\n",
              "\n",
              "  .colab-df-quickchart:hover {\n",
              "    background-color: var(--hover-bg-color);\n",
              "    box-shadow: 0 1px 2px rgba(60, 64, 67, 0.3), 0 1px 3px 1px rgba(60, 64, 67, 0.15);\n",
              "    fill: var(--button-hover-fill-color);\n",
              "  }\n",
              "\n",
              "  .colab-df-quickchart-complete:disabled,\n",
              "  .colab-df-quickchart-complete:disabled:hover {\n",
              "    background-color: var(--disabled-bg-color);\n",
              "    fill: var(--disabled-fill-color);\n",
              "    box-shadow: none;\n",
              "  }\n",
              "\n",
              "  .colab-df-spinner {\n",
              "    border: 2px solid var(--fill-color);\n",
              "    border-color: transparent;\n",
              "    border-bottom-color: var(--fill-color);\n",
              "    animation:\n",
              "      spin 1s steps(1) infinite;\n",
              "  }\n",
              "\n",
              "  @keyframes spin {\n",
              "    0% {\n",
              "      border-color: transparent;\n",
              "      border-bottom-color: var(--fill-color);\n",
              "      border-left-color: var(--fill-color);\n",
              "    }\n",
              "    20% {\n",
              "      border-color: transparent;\n",
              "      border-left-color: var(--fill-color);\n",
              "      border-top-color: var(--fill-color);\n",
              "    }\n",
              "    30% {\n",
              "      border-color: transparent;\n",
              "      border-left-color: var(--fill-color);\n",
              "      border-top-color: var(--fill-color);\n",
              "      border-right-color: var(--fill-color);\n",
              "    }\n",
              "    40% {\n",
              "      border-color: transparent;\n",
              "      border-right-color: var(--fill-color);\n",
              "      border-top-color: var(--fill-color);\n",
              "    }\n",
              "    60% {\n",
              "      border-color: transparent;\n",
              "      border-right-color: var(--fill-color);\n",
              "    }\n",
              "    80% {\n",
              "      border-color: transparent;\n",
              "      border-right-color: var(--fill-color);\n",
              "      border-bottom-color: var(--fill-color);\n",
              "    }\n",
              "    90% {\n",
              "      border-color: transparent;\n",
              "      border-bottom-color: var(--fill-color);\n",
              "    }\n",
              "  }\n",
              "</style>\n",
              "\n",
              "  <script>\n",
              "    async function quickchart(key) {\n",
              "      const quickchartButtonEl =\n",
              "        document.querySelector('#' + key + ' button');\n",
              "      quickchartButtonEl.disabled = true;  // To prevent multiple clicks.\n",
              "      quickchartButtonEl.classList.add('colab-df-spinner');\n",
              "      try {\n",
              "        const charts = await google.colab.kernel.invokeFunction(\n",
              "            'suggestCharts', [key], {});\n",
              "      } catch (error) {\n",
              "        console.error('Error during call to suggestCharts:', error);\n",
              "      }\n",
              "      quickchartButtonEl.classList.remove('colab-df-spinner');\n",
              "      quickchartButtonEl.classList.add('colab-df-quickchart-complete');\n",
              "    }\n",
              "    (() => {\n",
              "      let quickchartButtonEl =\n",
              "        document.querySelector('#df-548d322a-c163-4a16-9734-4b53600a6ae0 button');\n",
              "      quickchartButtonEl.style.display =\n",
              "        google.colab.kernel.accessAllowed ? 'block' : 'none';\n",
              "    })();\n",
              "  </script>\n",
              "</div>\n",
              "\n",
              "    </div>\n",
              "  </div>\n"
            ],
            "application/vnd.google.colaboratory.intrinsic+json": {
              "type": "dataframe",
              "summary": "{\n  \"name\": \"hmms\",\n  \"rows\": 3,\n  \"fields\": [\n    {\n      \"column\": 0,\n      \"properties\": {\n        \"dtype\": \"number\",\n        \"std\": 0.5008280395634881,\n        \"min\": 0.05800638738648597,\n        \"max\": 0.9922805474772134,\n        \"num_unique_values\": 3,\n        \"samples\": [\n          0.05800638738648597,\n          0.8379293702137603,\n          0.9922805474772134\n        ],\n        \"semantic_type\": \"\",\n        \"description\": \"\"\n      }\n    },\n    {\n      \"column\": 1,\n      \"properties\": {\n        \"dtype\": \"number\",\n        \"std\": 0.5008280395634873,\n        \"min\": 0.007719452522787868,\n        \"max\": 0.9419936126135141,\n        \"num_unique_values\": 3,\n        \"samples\": [\n          0.9419936126135141,\n          0.16207062978624143,\n          0.007719452522787868\n        ],\n        \"semantic_type\": \"\",\n        \"description\": \"\"\n      }\n    }\n  ]\n}"
            }
          },
          "metadata": {}
        }
      ]
    },
    {
      "cell_type": "markdown",
      "metadata": {
        "id": "F-4OyuBtVvFr"
      },
      "source": [
        "### Viterbi Algorithm\n",
        "\n",
        "Now, given I now have parameters $\\lambda$ and the emitted observation sequence $\\texttt{e_seq}$, I can use the **Viterbi Algorithm** to identify the most likely **state-transition** path (i.e. **market regimes**) in the financial time-series."
      ]
    },
    {
      "cell_type": "code",
      "metadata": {
        "id": "mJe17eIqVvFy"
      },
      "source": [
        "np.int = np.int64\n",
        "np.float = np.float64\n",
        "np.bool = np.bool_\n",
        "\n",
        "(log_prob, s_seq) = dhmm_r.viterbi(np.concatenate(e_seq).ravel().astype(np.int64))"
      ],
      "execution_count": null,
      "outputs": []
    },
    {
      "cell_type": "markdown",
      "metadata": {
        "id": "GGk14KlGVvGI"
      },
      "source": [
        "### Multicolored time series plot\n",
        "\n",
        "Now, I will be plotting this graph in a **multicolored** time-series plot to observe how well the regimes have been identified.\n",
        "\n",
        "First, I will have to make a dataframe which has the both the price and the associated regime the time-series data is in."
      ]
    },
    {
      "cell_type": "code",
      "metadata": {
        "id": "dUREw9yfVvGO"
      },
      "source": [
        "# Add price\n",
        "price_plot = pd.DataFrame(price[1:], index=price[1:].index);\n",
        "\n",
        "# Add a column representing the regime\n",
        "price_plot['Regime'] = s_seq;\n",
        "\n",
        "# Add a column representing the increase or decrease in price\n",
        "price_plot['diff'] = price_diff;"
      ],
      "execution_count": null,
      "outputs": []
    },
    {
      "cell_type": "markdown",
      "metadata": {
        "id": "C4k9q0AXVvGt"
      },
      "source": [
        "I do not know, however, which state represents which regime. Given that the bull regimes should have a high positive change in price, bear regimes should have a high negative change, and stagnant regimes are closer to zero, I can use these properties to tell which state represents which regime."
      ]
    },
    {
      "cell_type": "code",
      "metadata": {
        "id": "pd0v5lCWVvGz"
      },
      "source": [
        "# Get means of all assigned states\n",
        "means = price_plot.groupby(['Regime'])['diff'].mean();\n",
        "lst_1 = means.index.tolist();\n",
        "lst_2 = means.sort_values().index.tolist();\n",
        "\n",
        "map_regimes = dict(zip(lst_2, lst_1));\n",
        "\n",
        "price_plot['Regime'] = price_plot['Regime'].map(map_regimes);"
      ],
      "execution_count": null,
      "outputs": []
    },
    {
      "cell_type": "markdown",
      "metadata": {
        "id": "SEZ_YxOlVvHT"
      },
      "source": [
        "Plotting the data as **multi-colored** time series:"
      ]
    },
    {
      "cell_type": "code",
      "metadata": {
        "scrolled": true,
        "id": "DdCyoPcNVvHh",
        "outputId": "f75f1e21-6b6c-4937-9fc1-920dcfd8a503",
        "colab": {
          "base_uri": "https://localhost:8080/",
          "height": 325
        }
      },
      "source": [
        "import matplotlib.dates as mdates\n",
        "import matplotlib.patches as mpatches\n",
        "from matplotlib.collections import LineCollection\n",
        "from matplotlib.colors import Colormap, ListedColormap, BoundaryNorm\n",
        "\n",
        "fig, ax1 = plt.subplots(figsize=(20,8));\n",
        "ax.plot(price_plot['WTISPLC']);\n",
        "\n",
        "# Make 0 (Bear) - red, 1 (Stagnant) - blue, 2 (Bull) - green\n",
        "\n",
        "cmap   = ListedColormap(['r','b','g'],'indexed');\n",
        "norm   = BoundaryNorm(range(3 + 1), cmap.N);\n",
        "inxval = mdates.date2num(price_plot['WTISPLC'].index.to_pydatetime());\n",
        "points = np.array([inxval, price_plot['WTISPLC']]).T.reshape(-1, 1, 2);\n",
        "segments = np.concatenate([points[:-1], points[1:]], axis=1);\n",
        "\n",
        "lc = LineCollection(segments, cmap=cmap, norm=norm);\n",
        "lc.set_array(price_plot['Regime']);\n",
        "plt.gca().add_collection(lc);\n",
        "plt.xlim(price_plot['WTISPLC'].index.min(), price_plot['WTISPLC'].index.max());\n",
        "plt.ylim(price_plot['WTISPLC'].min(), price_plot['WTISPLC'].max());\n",
        "\n",
        "r_patch = mpatches.Patch(color='red', label='Bear');\n",
        "g_patch = mpatches.Patch(color='green', label='Bull');\n",
        "b_patch = mpatches.Patch(color='blue', label='Stagnant');\n",
        "\n",
        "plt.legend(handles=[r_patch, g_patch, b_patch]);\n",
        "\n",
        "plt.show();"
      ],
      "execution_count": null,
      "outputs": [
        {
          "output_type": "display_data",
          "data": {
            "text/plain": [
              "<Figure size 2000x800 with 1 Axes>"
            ],
            "image/png": "[encoded data removed]"
          },
          "metadata": {}
        }
      ]
    }
  ]
}